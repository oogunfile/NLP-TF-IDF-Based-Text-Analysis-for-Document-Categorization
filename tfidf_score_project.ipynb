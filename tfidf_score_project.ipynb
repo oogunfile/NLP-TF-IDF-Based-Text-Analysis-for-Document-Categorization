{
 "cells": [
  {
   "cell_type": "code",
   "execution_count": 1,
   "id": "6b0e4161",
   "metadata": {},
   "outputs": [],
   "source": [
    "import spacy\n",
    "import pandas as pd\n",
    "from sklearn.feature_extraction.text import TfidfVectorizer\n",
    "from sklearn.model_selection import train_test_split\n",
    "from sklearn.linear_model import LogisticRegression\n",
    "import string\n",
    "import numpy as np\n",
    "import re\n",
    "from nltk.stem.snowball import SnowballStemmer\n",
    "from collections import defaultdict\n",
    "from sklearn.metrics import accuracy_score, classification_report, confusion_matrix\n"
   ]
  },
  {
   "cell_type": "markdown",
   "id": "5314f897",
   "metadata": {},
   "source": [
    "## loading spacy and stemmer\n",
    "#### stemmer reduces words into their root forms which may be an actual word or not"
   ]
  },
  {
   "cell_type": "code",
   "execution_count": 2,
   "id": "18285425",
   "metadata": {},
   "outputs": [],
   "source": [
    "nlp = spacy.load(\"en_core_web_sm\")\n",
    "stemmer = SnowballStemmer(language='english')"
   ]
  },
  {
   "cell_type": "code",
   "execution_count": 3,
   "id": "f2f9d9fc",
   "metadata": {},
   "outputs": [],
   "source": [
    "df_train = pd.read_csv(\"trainData.csv\")\n",
    "df_test = pd.read_csv('testData.csv')\n"
   ]
  },
  {
   "cell_type": "code",
   "execution_count": 4,
   "id": "12708231",
   "metadata": {},
   "outputs": [
    {
     "data": {
      "text/html": [
       "<div>\n",
       "<style scoped>\n",
       "    .dataframe tbody tr th:only-of-type {\n",
       "        vertical-align: middle;\n",
       "    }\n",
       "\n",
       "    .dataframe tbody tr th {\n",
       "        vertical-align: top;\n",
       "    }\n",
       "\n",
       "    .dataframe thead th {\n",
       "        text-align: right;\n",
       "    }\n",
       "</style>\n",
       "<table border=\"1\" class=\"dataframe\">\n",
       "  <thead>\n",
       "    <tr style=\"text-align: right;\">\n",
       "      <th></th>\n",
       "      <th>Category</th>\n",
       "      <th>Description</th>\n",
       "    </tr>\n",
       "  </thead>\n",
       "  <tbody>\n",
       "    <tr>\n",
       "      <th>0</th>\n",
       "      <td>neutral</td>\n",
       "      <td>According to Gran , the company has no plans t...</td>\n",
       "    </tr>\n",
       "    <tr>\n",
       "      <th>1</th>\n",
       "      <td>neutral</td>\n",
       "      <td>Technopolis plans to develop in stages an area...</td>\n",
       "    </tr>\n",
       "    <tr>\n",
       "      <th>2</th>\n",
       "      <td>positive</td>\n",
       "      <td>With the new production plant the company woul...</td>\n",
       "    </tr>\n",
       "    <tr>\n",
       "      <th>3</th>\n",
       "      <td>positive</td>\n",
       "      <td>According to the company 's updated strategy f...</td>\n",
       "    </tr>\n",
       "    <tr>\n",
       "      <th>4</th>\n",
       "      <td>positive</td>\n",
       "      <td>FINANCING OF ASPOCOMP 'S GROWTH Aspocomp is ag...</td>\n",
       "    </tr>\n",
       "    <tr>\n",
       "      <th>...</th>\n",
       "      <td>...</td>\n",
       "      <td>...</td>\n",
       "    </tr>\n",
       "    <tr>\n",
       "      <th>3388</th>\n",
       "      <td>negative</td>\n",
       "      <td>The company said that its comparable operating...</td>\n",
       "    </tr>\n",
       "    <tr>\n",
       "      <th>3389</th>\n",
       "      <td>negative</td>\n",
       "      <td>Operating result for the 12-month period decre...</td>\n",
       "    </tr>\n",
       "    <tr>\n",
       "      <th>3390</th>\n",
       "      <td>negative</td>\n",
       "      <td>HELSINKI Thomson Financial - Shares in Cargote...</td>\n",
       "    </tr>\n",
       "    <tr>\n",
       "      <th>3391</th>\n",
       "      <td>negative</td>\n",
       "      <td>Net sales of the Paper segment decreased to EU...</td>\n",
       "    </tr>\n",
       "    <tr>\n",
       "      <th>3392</th>\n",
       "      <td>negative</td>\n",
       "      <td>Sales in Finland decreased by 10.5 % in Januar...</td>\n",
       "    </tr>\n",
       "  </tbody>\n",
       "</table>\n",
       "<p>3393 rows × 2 columns</p>\n",
       "</div>"
      ],
      "text/plain": [
       "      Category                                        Description\n",
       "0      neutral  According to Gran , the company has no plans t...\n",
       "1      neutral  Technopolis plans to develop in stages an area...\n",
       "2     positive  With the new production plant the company woul...\n",
       "3     positive  According to the company 's updated strategy f...\n",
       "4     positive  FINANCING OF ASPOCOMP 'S GROWTH Aspocomp is ag...\n",
       "...        ...                                                ...\n",
       "3388  negative  The company said that its comparable operating...\n",
       "3389  negative  Operating result for the 12-month period decre...\n",
       "3390  negative  HELSINKI Thomson Financial - Shares in Cargote...\n",
       "3391  negative  Net sales of the Paper segment decreased to EU...\n",
       "3392  negative  Sales in Finland decreased by 10.5 % in Januar...\n",
       "\n",
       "[3393 rows x 2 columns]"
      ]
     },
     "execution_count": 4,
     "metadata": {},
     "output_type": "execute_result"
    }
   ],
   "source": [
    "df_train"
   ]
  },
  {
   "cell_type": "markdown",
   "id": "f3ec22f7",
   "metadata": {},
   "source": [
    "**remove punctuations, perform lemmatization and convert to lowercase, remove stop words(common words that usually dont have much meaning), and white spaces**"
   ]
  },
  {
   "cell_type": "code",
   "execution_count": 5,
   "id": "b9d17eae",
   "metadata": {},
   "outputs": [],
   "source": [
    "#add more stop words\n",
    "words = ['abt', 'ab', 'www', 'abp', 'yit', ',', '.', '?','%', '00', 'mn', 'nm', 'mm', 'g', 'ad', 'www']\n",
    "for word in words: \n",
    "    nlp.Defaults.stop_words.add(word)\n",
    "    nlp.vocab[word].is_stop= True"
   ]
  },
  {
   "cell_type": "code",
   "execution_count": 6,
   "id": "65ec69f2",
   "metadata": {},
   "outputs": [
    {
     "data": {
      "text/plain": [
       "341"
      ]
     },
     "execution_count": 6,
     "metadata": {},
     "output_type": "execute_result"
    }
   ],
   "source": [
    "len(nlp.Defaults.stop_words)"
   ]
  },
  {
   "cell_type": "code",
   "execution_count": 7,
   "id": "a7514d6f",
   "metadata": {},
   "outputs": [],
   "source": [
    "def process(doc):\n",
    "    # Replace numbers with 'num'\n",
    "    doc = re.sub(r'\\b\\d+(\\.\\d+)?\\b', 'num', doc)\n",
    "    \n",
    "    # Apply spaCy pipeline\n",
    "    spacy_doc = nlp(doc)\n",
    "    \n",
    "\n",
    "    stemmed_words = [stemmer.stem(token.text) for token in spacy_doc if not token.is_stop and not token.is_space and not token.is_punct and not token.like_num]\n",
    "    return ' '.join(stemmed_words)"
   ]
  },
  {
   "cell_type": "code",
   "execution_count": 8,
   "id": "b4b076cc",
   "metadata": {},
   "outputs": [],
   "source": [
    "# Apply the processing function to the dataframe columns\n",
    "df_train['processed_texts'] = df_train['Description'].apply(process)\n",
    "df_test['processed_texts'] = df_test['Description'].apply(process)"
   ]
  },
  {
   "cell_type": "code",
   "execution_count": 9,
   "id": "763a6b8e",
   "metadata": {
    "scrolled": true
   },
   "outputs": [
    {
     "data": {
      "text/plain": [
       "\"HELSINKI ( AFX ) - Shares closed higher , led by Nokia after it announced plans to team up with Sanyo to manufacture 3G handsets , and by Nokian Tyres after its fourth-quarter earnings report beat analysts ' expectations , dealers said .\""
      ]
     },
     "execution_count": 9,
     "metadata": {},
     "output_type": "execute_result"
    }
   ],
   "source": [
    "#former phrase\n",
    "df_test['Description'][3]"
   ]
  },
  {
   "cell_type": "code",
   "execution_count": 10,
   "id": "6bbe7d0f",
   "metadata": {},
   "outputs": [
    {
     "data": {
      "text/plain": [
       "'helsinki afx share close higher led nokia announc plan team sanyo manufactur handset nokian tyre quarter earn report beat analyst expect dealer said'"
      ]
     },
     "execution_count": 10,
     "metadata": {},
     "output_type": "execute_result"
    }
   ],
   "source": [
    "#phrase after processing\n",
    "df_test['processed_texts'][3]"
   ]
  },
  {
   "cell_type": "code",
   "execution_count": 11,
   "id": "e80b38b4",
   "metadata": {},
   "outputs": [],
   "source": [
    "#Tfidf feature extration\n",
    "#top most frequent words\n",
    "#training the model\n",
    "vectorizer = TfidfVectorizer(max_features=500)\n",
    "tfidf_train = vectorizer.fit_transform(df_train['processed_texts'])\n",
    "tfidf_test = vectorizer.transform(df_test['processed_texts'])"
   ]
  },
  {
   "cell_type": "code",
   "execution_count": 12,
   "id": "d16e9623",
   "metadata": {},
   "outputs": [],
   "source": [
    "# Create a DataFrame with the TF-IDF features\n",
    "feature_names = vectorizer.get_feature_names_out()\n",
    "tfidf_train_df = pd.DataFrame(tfidf_train.toarray(), columns=feature_names)\n",
    "tfidf_test_df = pd.DataFrame(tfidf_test.toarray(), columns=feature_names)\n",
    "df_train_idf= pd.concat([df_train['Category'],tfidf_train_df ], axis =1)\n",
    "df_test_idf= pd.concat([df_test['Category'],tfidf_test_df ], axis =1)\n",
    "\n"
   ]
  },
  {
   "cell_type": "code",
   "execution_count": 13,
   "id": "206b0c95",
   "metadata": {},
   "outputs": [],
   "source": [
    "# Assume `df` is your TF-IDF DataFrame, excluding the category column\n",
    "tfidf_values = df_train_idf.drop(columns=['Category'])\n",
    "\n",
    "# Count the non-zero TF-IDF entries for each term\n",
    "document_frequency = (tfidf_values != 0).sum()\n",
    "\n",
    "# Convert to DataFrame for better readability\n",
    "df_df = pd.DataFrame(document_frequency, columns=['Document_Frequency'])\n",
    "\n",
    "df_df = df_df.sort_values(by='Document_Frequency', ascending=False)"
   ]
  },
  {
   "cell_type": "code",
   "execution_count": 14,
   "id": "5819dd5f",
   "metadata": {},
   "outputs": [
    {
     "data": {
      "text/html": [
       "<div>\n",
       "<style scoped>\n",
       "    .dataframe tbody tr th:only-of-type {\n",
       "        vertical-align: middle;\n",
       "    }\n",
       "\n",
       "    .dataframe tbody tr th {\n",
       "        vertical-align: top;\n",
       "    }\n",
       "\n",
       "    .dataframe thead th {\n",
       "        text-align: right;\n",
       "    }\n",
       "</style>\n",
       "<table border=\"1\" class=\"dataframe\">\n",
       "  <thead>\n",
       "    <tr style=\"text-align: right;\">\n",
       "      <th></th>\n",
       "      <th>access</th>\n",
       "      <th>accord</th>\n",
       "      <th>account</th>\n",
       "      <th>acquir</th>\n",
       "      <th>acquisit</th>\n",
       "      <th>activ</th>\n",
       "      <th>ad</th>\n",
       "      <th>addit</th>\n",
       "      <th>administr</th>\n",
       "      <th>adp</th>\n",
       "      <th>...</th>\n",
       "      <th>water</th>\n",
       "      <th>wednesday</th>\n",
       "      <th>week</th>\n",
       "      <th>won</th>\n",
       "      <th>work</th>\n",
       "      <th>world</th>\n",
       "      <th>worth</th>\n",
       "      <th>www</th>\n",
       "      <th>year</th>\n",
       "      <th>yesterday</th>\n",
       "    </tr>\n",
       "    <tr>\n",
       "      <th>Category</th>\n",
       "      <th></th>\n",
       "      <th></th>\n",
       "      <th></th>\n",
       "      <th></th>\n",
       "      <th></th>\n",
       "      <th></th>\n",
       "      <th></th>\n",
       "      <th></th>\n",
       "      <th></th>\n",
       "      <th></th>\n",
       "      <th></th>\n",
       "      <th></th>\n",
       "      <th></th>\n",
       "      <th></th>\n",
       "      <th></th>\n",
       "      <th></th>\n",
       "      <th></th>\n",
       "      <th></th>\n",
       "      <th></th>\n",
       "      <th></th>\n",
       "      <th></th>\n",
       "    </tr>\n",
       "  </thead>\n",
       "  <tbody>\n",
       "    <tr>\n",
       "      <th>negative</th>\n",
       "      <td>0.000000</td>\n",
       "      <td>0.008774</td>\n",
       "      <td>0.002628</td>\n",
       "      <td>0.001200</td>\n",
       "      <td>0.001362</td>\n",
       "      <td>0.002700</td>\n",
       "      <td>0.003902</td>\n",
       "      <td>0.008534</td>\n",
       "      <td>0.001759</td>\n",
       "      <td>0.003152</td>\n",
       "      <td>...</td>\n",
       "      <td>0.001475</td>\n",
       "      <td>0.005181</td>\n",
       "      <td>0.001706</td>\n",
       "      <td>0.000000</td>\n",
       "      <td>0.006478</td>\n",
       "      <td>0.000000</td>\n",
       "      <td>0.000000</td>\n",
       "      <td>0.000000</td>\n",
       "      <td>0.047293</td>\n",
       "      <td>0.000000</td>\n",
       "    </tr>\n",
       "    <tr>\n",
       "      <th>neutral</th>\n",
       "      <td>0.002352</td>\n",
       "      <td>0.011479</td>\n",
       "      <td>0.004326</td>\n",
       "      <td>0.006673</td>\n",
       "      <td>0.005468</td>\n",
       "      <td>0.004938</td>\n",
       "      <td>0.004255</td>\n",
       "      <td>0.004405</td>\n",
       "      <td>0.002662</td>\n",
       "      <td>0.000434</td>\n",
       "      <td>...</td>\n",
       "      <td>0.003218</td>\n",
       "      <td>0.001347</td>\n",
       "      <td>0.002672</td>\n",
       "      <td>0.000000</td>\n",
       "      <td>0.006217</td>\n",
       "      <td>0.004784</td>\n",
       "      <td>0.003106</td>\n",
       "      <td>0.004267</td>\n",
       "      <td>0.011725</td>\n",
       "      <td>0.001623</td>\n",
       "    </tr>\n",
       "    <tr>\n",
       "      <th>positive</th>\n",
       "      <td>0.001601</td>\n",
       "      <td>0.007595</td>\n",
       "      <td>0.002341</td>\n",
       "      <td>0.004204</td>\n",
       "      <td>0.009006</td>\n",
       "      <td>0.001862</td>\n",
       "      <td>0.001864</td>\n",
       "      <td>0.005072</td>\n",
       "      <td>0.001405</td>\n",
       "      <td>0.003788</td>\n",
       "      <td>...</td>\n",
       "      <td>0.000731</td>\n",
       "      <td>0.001026</td>\n",
       "      <td>0.002601</td>\n",
       "      <td>0.007105</td>\n",
       "      <td>0.004838</td>\n",
       "      <td>0.004836</td>\n",
       "      <td>0.002590</td>\n",
       "      <td>0.000000</td>\n",
       "      <td>0.037380</td>\n",
       "      <td>0.003584</td>\n",
       "    </tr>\n",
       "  </tbody>\n",
       "</table>\n",
       "<p>3 rows × 500 columns</p>\n",
       "</div>"
      ],
      "text/plain": [
       "            access    accord   account    acquir  acquisit     activ  \\\n",
       "Category                                                               \n",
       "negative  0.000000  0.008774  0.002628  0.001200  0.001362  0.002700   \n",
       "neutral   0.002352  0.011479  0.004326  0.006673  0.005468  0.004938   \n",
       "positive  0.001601  0.007595  0.002341  0.004204  0.009006  0.001862   \n",
       "\n",
       "                ad     addit  administr       adp  ...     water  wednesday  \\\n",
       "Category                                           ...                        \n",
       "negative  0.003902  0.008534   0.001759  0.003152  ...  0.001475   0.005181   \n",
       "neutral   0.004255  0.004405   0.002662  0.000434  ...  0.003218   0.001347   \n",
       "positive  0.001864  0.005072   0.001405  0.003788  ...  0.000731   0.001026   \n",
       "\n",
       "              week       won      work     world     worth       www  \\\n",
       "Category                                                               \n",
       "negative  0.001706  0.000000  0.006478  0.000000  0.000000  0.000000   \n",
       "neutral   0.002672  0.000000  0.006217  0.004784  0.003106  0.004267   \n",
       "positive  0.002601  0.007105  0.004838  0.004836  0.002590  0.000000   \n",
       "\n",
       "              year  yesterday  \n",
       "Category                       \n",
       "negative  0.047293   0.000000  \n",
       "neutral   0.011725   0.001623  \n",
       "positive  0.037380   0.003584  \n",
       "\n",
       "[3 rows x 500 columns]"
      ]
     },
     "execution_count": 14,
     "metadata": {},
     "output_type": "execute_result"
    }
   ],
   "source": [
    "#compute average tf-idf\n",
    "average_tfidf_train = df_train_idf.groupby('Category').mean()\n",
    "average_tfidf_train\n"
   ]
  },
  {
   "cell_type": "code",
   "execution_count": 15,
   "id": "30866aa1",
   "metadata": {},
   "outputs": [
    {
     "data": {
      "text/html": [
       "<div>\n",
       "<style scoped>\n",
       "    .dataframe tbody tr th:only-of-type {\n",
       "        vertical-align: middle;\n",
       "    }\n",
       "\n",
       "    .dataframe tbody tr th {\n",
       "        vertical-align: top;\n",
       "    }\n",
       "\n",
       "    .dataframe thead th {\n",
       "        text-align: right;\n",
       "    }\n",
       "</style>\n",
       "<table border=\"1\" class=\"dataframe\">\n",
       "  <thead>\n",
       "    <tr style=\"text-align: right;\">\n",
       "      <th></th>\n",
       "      <th>access</th>\n",
       "      <th>accord</th>\n",
       "      <th>account</th>\n",
       "      <th>acquir</th>\n",
       "      <th>acquisit</th>\n",
       "      <th>activ</th>\n",
       "      <th>ad</th>\n",
       "      <th>addit</th>\n",
       "      <th>administr</th>\n",
       "      <th>adp</th>\n",
       "      <th>...</th>\n",
       "      <th>water</th>\n",
       "      <th>wednesday</th>\n",
       "      <th>week</th>\n",
       "      <th>won</th>\n",
       "      <th>work</th>\n",
       "      <th>world</th>\n",
       "      <th>worth</th>\n",
       "      <th>www</th>\n",
       "      <th>year</th>\n",
       "      <th>yesterday</th>\n",
       "    </tr>\n",
       "    <tr>\n",
       "      <th>Category</th>\n",
       "      <th></th>\n",
       "      <th></th>\n",
       "      <th></th>\n",
       "      <th></th>\n",
       "      <th></th>\n",
       "      <th></th>\n",
       "      <th></th>\n",
       "      <th></th>\n",
       "      <th></th>\n",
       "      <th></th>\n",
       "      <th></th>\n",
       "      <th></th>\n",
       "      <th></th>\n",
       "      <th></th>\n",
       "      <th></th>\n",
       "      <th></th>\n",
       "      <th></th>\n",
       "      <th></th>\n",
       "      <th></th>\n",
       "      <th></th>\n",
       "      <th></th>\n",
       "    </tr>\n",
       "  </thead>\n",
       "  <tbody>\n",
       "    <tr>\n",
       "      <th>negative</th>\n",
       "      <td>0.000000</td>\n",
       "      <td>0.008774</td>\n",
       "      <td>0.002628</td>\n",
       "      <td>0.001200</td>\n",
       "      <td>0.001362</td>\n",
       "      <td>0.002700</td>\n",
       "      <td>0.003902</td>\n",
       "      <td>0.008534</td>\n",
       "      <td>0.001759</td>\n",
       "      <td>0.003152</td>\n",
       "      <td>...</td>\n",
       "      <td>0.001475</td>\n",
       "      <td>0.005181</td>\n",
       "      <td>0.001706</td>\n",
       "      <td>0.000000</td>\n",
       "      <td>0.006478</td>\n",
       "      <td>0.000000</td>\n",
       "      <td>0.000000</td>\n",
       "      <td>0.000000</td>\n",
       "      <td>0.047293</td>\n",
       "      <td>0.000000</td>\n",
       "    </tr>\n",
       "    <tr>\n",
       "      <th>neutral</th>\n",
       "      <td>0.002352</td>\n",
       "      <td>0.011479</td>\n",
       "      <td>0.004326</td>\n",
       "      <td>0.006673</td>\n",
       "      <td>0.005468</td>\n",
       "      <td>0.004938</td>\n",
       "      <td>0.004255</td>\n",
       "      <td>0.004405</td>\n",
       "      <td>0.002662</td>\n",
       "      <td>0.000434</td>\n",
       "      <td>...</td>\n",
       "      <td>0.003218</td>\n",
       "      <td>0.001347</td>\n",
       "      <td>0.002672</td>\n",
       "      <td>0.000000</td>\n",
       "      <td>0.006217</td>\n",
       "      <td>0.004784</td>\n",
       "      <td>0.003106</td>\n",
       "      <td>0.004267</td>\n",
       "      <td>0.011725</td>\n",
       "      <td>0.001623</td>\n",
       "    </tr>\n",
       "    <tr>\n",
       "      <th>positive</th>\n",
       "      <td>0.001601</td>\n",
       "      <td>0.007595</td>\n",
       "      <td>0.002341</td>\n",
       "      <td>0.004204</td>\n",
       "      <td>0.009006</td>\n",
       "      <td>0.001862</td>\n",
       "      <td>0.001864</td>\n",
       "      <td>0.005072</td>\n",
       "      <td>0.001405</td>\n",
       "      <td>0.003788</td>\n",
       "      <td>...</td>\n",
       "      <td>0.000731</td>\n",
       "      <td>0.001026</td>\n",
       "      <td>0.002601</td>\n",
       "      <td>0.007105</td>\n",
       "      <td>0.004838</td>\n",
       "      <td>0.004836</td>\n",
       "      <td>0.002590</td>\n",
       "      <td>0.000000</td>\n",
       "      <td>0.037380</td>\n",
       "      <td>0.003584</td>\n",
       "    </tr>\n",
       "  </tbody>\n",
       "</table>\n",
       "<p>3 rows × 500 columns</p>\n",
       "</div>"
      ],
      "text/plain": [
       "            access    accord   account    acquir  acquisit     activ  \\\n",
       "Category                                                               \n",
       "negative  0.000000  0.008774  0.002628  0.001200  0.001362  0.002700   \n",
       "neutral   0.002352  0.011479  0.004326  0.006673  0.005468  0.004938   \n",
       "positive  0.001601  0.007595  0.002341  0.004204  0.009006  0.001862   \n",
       "\n",
       "                ad     addit  administr       adp  ...     water  wednesday  \\\n",
       "Category                                           ...                        \n",
       "negative  0.003902  0.008534   0.001759  0.003152  ...  0.001475   0.005181   \n",
       "neutral   0.004255  0.004405   0.002662  0.000434  ...  0.003218   0.001347   \n",
       "positive  0.001864  0.005072   0.001405  0.003788  ...  0.000731   0.001026   \n",
       "\n",
       "              week       won      work     world     worth       www  \\\n",
       "Category                                                               \n",
       "negative  0.001706  0.000000  0.006478  0.000000  0.000000  0.000000   \n",
       "neutral   0.002672  0.000000  0.006217  0.004784  0.003106  0.004267   \n",
       "positive  0.002601  0.007105  0.004838  0.004836  0.002590  0.000000   \n",
       "\n",
       "              year  yesterday  \n",
       "Category                       \n",
       "negative  0.047293   0.000000  \n",
       "neutral   0.011725   0.001623  \n",
       "positive  0.037380   0.003584  \n",
       "\n",
       "[3 rows x 500 columns]"
      ]
     },
     "execution_count": 15,
     "metadata": {},
     "output_type": "execute_result"
    }
   ],
   "source": [
    "average_tfidf_train"
   ]
  },
  {
   "cell_type": "code",
   "execution_count": 16,
   "id": "28075527",
   "metadata": {},
   "outputs": [],
   "source": [
    "import os\n",
    "#average_tfidf_train.to_csv('')\n",
    "# Assuming 'average_tfidf_train' is your DataFrame\n",
    "average_tfidf_train.to_csv('trained_average_tfidf_scores.csv', index=True)\n"
   ]
  },
  {
   "cell_type": "code",
   "execution_count": 17,
   "id": "a40ba3ff",
   "metadata": {},
   "outputs": [],
   "source": [
    "average_tfidf_train.to_pickle('trained_average_tfidf_scores.pkl')\n"
   ]
  },
  {
   "cell_type": "markdown",
   "id": "b23e0322",
   "metadata": {},
   "source": [
    "**check for baseline model**"
   ]
  },
  {
   "cell_type": "code",
   "execution_count": 18,
   "id": "10113302",
   "metadata": {},
   "outputs": [
    {
     "data": {
      "text/plain": [
       "'neutral'"
      ]
     },
     "execution_count": 18,
     "metadata": {},
     "output_type": "execute_result"
    }
   ],
   "source": [
    "\n",
    "most_frequent_category = df_test_idf['Category'].mode()[0]\n",
    "most_frequent_category"
   ]
  },
  {
   "cell_type": "code",
   "execution_count": 19,
   "id": "2e33956d",
   "metadata": {},
   "outputs": [
    {
     "name": "stdout",
     "output_type": "stream",
     "text": [
      "Baseline Model Accuracy using test data alone: 0.59\n"
     ]
    }
   ],
   "source": [
    "count_most_frequent_category = (df_test_idf['Category'] == most_frequent_category).sum()\n",
    "total_instances = df_test_idf['Category'].count()\n",
    "baseline_accuracy = count_most_frequent_category / total_instances\n",
    "print(f\"Baseline Model Accuracy using test data alone: {baseline_accuracy:.2f}\")\n"
   ]
  },
  {
   "cell_type": "code",
   "execution_count": 20,
   "id": "cf10741a",
   "metadata": {},
   "outputs": [],
   "source": [
    "\n",
    "from sklearn.metrics.pairwise import cosine_similarity\n",
    "\n",
    "average_tfidf_train = pd.read_csv('trained_average_tfidf_scores.csv', index_col='Category')  # Ensure the index_col is set appropriately\n",
    "\n",
    "# Function to predict categories based on cosine similarity\n",
    "def predict_category(tfidf_vector, centroids_df):\n",
    "    # Ensure the input vector is a numpy array and reshape it for cosine_similarity\n",
    "    if isinstance(tfidf_vector, pd.Series):\n",
    "        tfidf_vector = tfidf_vector.values.reshape(1, -1)\n",
    "    elif isinstance(tfidf_vector, np.ndarray):\n",
    "        tfidf_vector = tfidf_vector.reshape(1, -1)\n",
    "    else:\n",
    "        raise ValueError(\"Input is neither a pandas Series nor a numpy array\")\n",
    "    \n",
    "    # Compute cosine similarity and return the category with the highest similarity\n",
    "    similarities = cosine_similarity(tfidf_vector, centroids_df.values)\n",
    "    return centroids_df.index[np.argmax(similarities)]\n",
    "\n",
    "# Apply the prediction to each row in the test TF-IDF DataFrame, excluding any non-numeric data\n",
    "predicted_categories = [\n",
    "    predict_category(row.drop(labels=['Category', 'Predicted_Category'], errors='ignore'), average_tfidf_train)\n",
    "    for index, row in df_test_idf.iterrows()\n",
    "]\n",
    "\n",
    "# Append the predicted categories to the test DataFrame\n",
    "df_test_idf['Predicted_Category'] = predicted_categories\n"
   ]
  },
  {
   "cell_type": "code",
   "execution_count": 21,
   "id": "34d71fab",
   "metadata": {},
   "outputs": [
    {
     "name": "stdout",
     "output_type": "stream",
     "text": [
      "Accuracy: 0.6586373021335169\n",
      "              precision    recall  f1-score   support\n",
      "\n",
      "    negative       0.39      0.65      0.49       181\n",
      "     neutral       0.75      0.80      0.77       864\n",
      "    positive       0.64      0.37      0.47       408\n",
      "\n",
      "    accuracy                           0.66      1453\n",
      "   macro avg       0.59      0.61      0.58      1453\n",
      "weighted avg       0.68      0.66      0.65      1453\n",
      "\n"
     ]
    }
   ],
   "source": [
    "accuracy = accuracy_score(df_test_idf['Category'], df_test_idf['Predicted_Category'])\n",
    "\n",
    "# Print the accuracy\n",
    "print(\"Accuracy:\", accuracy)\n",
    "\n",
    "# Generate and print the classification report to see precision, recall, and F1-score for each class\n",
    "print(classification_report(df_test_idf['Category'], df_test_idf['Predicted_Category']))\n"
   ]
  },
  {
   "cell_type": "code",
   "execution_count": 22,
   "id": "4ad23a67",
   "metadata": {},
   "outputs": [
    {
     "name": "stdout",
     "output_type": "stream",
     "text": [
      "Confusion Matrix:\n",
      " [[118  55   8]\n",
      " [ 99 690  75]\n",
      " [ 84 175 149]]\n"
     ]
    }
   ],
   "source": [
    "# Generate and print the confusion matrix\n",
    "conf_matrix = confusion_matrix(df_test_idf['Category'], df_test_idf['Predicted_Category'])\n",
    "print(\"Confusion Matrix:\\n\", conf_matrix)"
   ]
  },
  {
   "cell_type": "code",
   "execution_count": null,
   "id": "a3560a32",
   "metadata": {},
   "outputs": [],
   "source": []
  },
  {
   "cell_type": "code",
   "execution_count": null,
   "id": "a488ce38",
   "metadata": {},
   "outputs": [],
   "source": []
  }
 ],
 "metadata": {
  "kernelspec": {
   "display_name": "Python 3 (ipykernel)",
   "language": "python",
   "name": "python3"
  },
  "language_info": {
   "codemirror_mode": {
    "name": "ipython",
    "version": 3
   },
   "file_extension": ".py",
   "mimetype": "text/x-python",
   "name": "python",
   "nbconvert_exporter": "python",
   "pygments_lexer": "ipython3",
   "version": "3.11.5"
  }
 },
 "nbformat": 4,
 "nbformat_minor": 5
}
